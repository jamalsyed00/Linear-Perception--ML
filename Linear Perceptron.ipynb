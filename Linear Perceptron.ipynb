{
 "cells": [
  {
   "cell_type": "code",
   "execution_count": 1,
   "metadata": {},
   "outputs": [],
   "source": [
    "import numpy as np\n",
    "import csv\n",
    "import random\n",
    "import matplotlib.pyplot as plt"
   ]
  },
  {
   "cell_type": "code",
   "execution_count": 2,
   "metadata": {},
   "outputs": [
    {
     "name": "stdout",
     "output_type": "stream",
     "text": [
      "Number of iterations : 1000000\n",
      "The training accuracy for dataset 1 is 98.64583333333333\n",
      "The test accuracy for dataset 1 is 99.27184466019418\n",
      "Number of iterations : 10\n",
      "The training accuracy for dataset 2 is 100.0\n",
      "The test accuracy for dataset 2 is 100.0\n"
     ]
    }
   ],
   "source": [
    "for j in range(2) :\n",
    "    if j == 0 :\n",
    "        filename = \"dataset_LP_1.txt\"\n",
    "        length = 5\n",
    "    if j == 1 :\n",
    "        filename = \"dataset_LP_2.csv\"\n",
    "        length = 4\n",
    "    data = []\n",
    "    test_labels = []\n",
    "    train_labels = []\n",
    "    test_data = []\n",
    "    train_data = []\n",
    "    with open(filename, 'r') as csvfile :\n",
    "        csvreader = csv.reader(csvfile)\n",
    "        for row in csvreader :\n",
    "            data.append(row)\n",
    "    random.shuffle(data)\n",
    "    split = int(len(data)*0.7)\n",
    "    for i in range(split) :\n",
    "        train_data.append(data[i])\n",
    "        train_labels.append(data[i][length-1])\n",
    "        del train_data[i][length-1]\n",
    "        train_data[i].append(1)\n",
    "    for i in range(len(data)-split) :\n",
    "        test_data.append(data[i+split])\n",
    "        test_labels.append(data[i+split][length-1])\n",
    "        del test_data[i][length-1]\n",
    "        test_data[i].append(1)\n",
    "    train_data = np.array(train_data).astype(np.float)\n",
    "    test_data = np.array(test_data).astype(np.float)\n",
    "    test_labels = np.array(test_labels).astype(np.int)\n",
    "    train_labels = np.array(train_labels).astype(np.int)\n",
    "\n",
    "    weights = np.random.randn(length)\n",
    "    epoch = 0\n",
    "    flag = 1\n",
    "    eta = 0.1\n",
    "\n",
    "    def pred(row, weights):\n",
    "        activation = np.dot(row,weights)\n",
    "        return 1 if activation >= 0.0 else 0\n",
    "\n",
    "    while flag :\n",
    "        epoch += 1\n",
    "        if epoch >= 1000000 :\n",
    "            flag = 0\n",
    "        flag2 = 1\n",
    "        for i in range(len(train_data)) :\n",
    "            if pred(train_data[i],weights) != train_labels[i] :\n",
    "                flag2 = 0\n",
    "                weights = weights - eta*pow(-1,train_labels[i])*train_data[i]\n",
    "        if flag2 == 1 :\n",
    "            flag = 0\n",
    "\n",
    "    print(\"Number of iterations :\", epoch)\n",
    "    correct = 0\n",
    "    for i in range(len(train_data)) :\n",
    "        if pred(train_data[i],weights) == train_labels[i] :\n",
    "            correct += 1\n",
    "    train_accuracy = (correct/len(train_data))*100\n",
    "    print(\"The training accuracy for dataset\", j+1, \"is\", train_accuracy)\n",
    "    correct = 0\n",
    "    for i in range(len(test_data)) :\n",
    "        if pred(test_data[i],weights) == test_labels[i] :\n",
    "            correct += 1\n",
    "    test_accuracy = (correct/len(test_data))*100\n",
    "    print(\"The test accuracy for dataset\", j+1, \"is\", test_accuracy)"
   ]
  },
  {
   "cell_type": "code",
   "execution_count": null,
   "metadata": {},
   "outputs": [],
   "source": []
  }
 ],
 "metadata": {
  "kernelspec": {
   "display_name": "Python 3",
   "language": "python",
   "name": "python3"
  },
  "language_info": {
   "codemirror_mode": {
    "name": "ipython",
    "version": 3
   },
   "file_extension": ".py",
   "mimetype": "text/x-python",
   "name": "python",
   "nbconvert_exporter": "python",
   "pygments_lexer": "ipython3",
   "version": "3.8.3"
  }
 },
 "nbformat": 4,
 "nbformat_minor": 4
}
